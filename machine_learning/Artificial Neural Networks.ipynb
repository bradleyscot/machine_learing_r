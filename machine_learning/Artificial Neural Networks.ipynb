{
 "cells": [
  {
   "cell_type": "markdown",
   "metadata": {},
   "source": [
    "# Artificial Neural Networks"
   ]
  },
  {
   "cell_type": "markdown",
   "metadata": {},
   "source": [
    "Typically made up of three common characteristics: activation function, network topology, training algorithm"
   ]
  },
  {
   "cell_type": "markdown",
   "metadata": {},
   "source": [
    "### Activation Function:\n",
    "\n",
    "Unit step, sigmoid, linear, saturated linear, hyperbolic tangent, gaussian"
   ]
  },
  {
   "cell_type": "markdown",
   "metadata": {},
   "source": [
    "### Network Topology:\n",
    "\n",
    "\\# of layers, can information travel backwards, \\# of nodes within each layer of the network"
   ]
  },
  {
   "cell_type": "markdown",
   "metadata": {},
   "source": [
    "#### MLP (Multilayer Perceptron) \n",
    "is a multilayer feedforward network. And the **backpropagation algorithm** used within MLP is common in data mining.\n",
    "\n",
    "**Strengths**\n",
    "\n",
    "**1)** Can be adapted to classification or numeric prediction problems \n",
    "\n",
    "**2)** Among the most accurate modeling approaches \n",
    "\n",
    "**3)** Makes few assumptions about the data's underlying relationships \n",
    "\n",
    "**Weaknesses**\n",
    "\n",
    "**1)** Reputation of being computationally intensive and slow to train, particularly if the network topology is complex \n",
    "\n",
    "**2)** Easy to overfit or underfit training data \n",
    "\n",
    "**3)** Results in a complex black box model that is difficult if not impossible to interpret\n"
   ]
  },
  {
   "cell_type": "markdown",
   "metadata": {},
   "source": [
    "## Modeling the Strength of Concrete"
   ]
  },
  {
   "cell_type": "markdown",
   "metadata": {},
   "source": [
    "### Step One: Collect Data"
   ]
  },
  {
   "cell_type": "code",
   "execution_count": 1,
   "metadata": {
    "collapsed": true
   },
   "outputs": [],
   "source": [
    "concrete <- read.csv(\"../csv/concrete.csv\")"
   ]
  },
  {
   "cell_type": "markdown",
   "metadata": {},
   "source": [
    "### Step Two: Explore and Prepare the Data"
   ]
  },
  {
   "cell_type": "code",
   "execution_count": 2,
   "metadata": {
    "collapsed": false
   },
   "outputs": [
    {
     "name": "stdout",
     "output_type": "stream",
     "text": [
      "'data.frame':\t1030 obs. of  9 variables:\n",
      " $ cement      : num  540 540 332 332 199 ...\n",
      " $ slag        : num  0 0 142 142 132 ...\n",
      " $ ash         : num  0 0 0 0 0 0 0 0 0 0 ...\n",
      " $ water       : num  162 162 228 228 192 228 228 228 228 228 ...\n",
      " $ superplastic: num  2.5 2.5 0 0 0 0 0 0 0 0 ...\n",
      " $ coarseagg   : num  1040 1055 932 932 978 ...\n",
      " $ fineagg     : num  676 676 594 594 826 ...\n",
      " $ age         : int  28 28 270 365 360 90 365 28 28 28 ...\n",
      " $ strength    : num  80 61.9 40.3 41 44.3 ...\n"
     ]
    }
   ],
   "source": [
    "str(concrete)"
   ]
  },
  {
   "cell_type": "markdown",
   "metadata": {},
   "source": [
    "Neural networks work best when the input data are scaled to a narrow range around zero, and here we see values ranging anywhere from zero up to over a thousand. Typically, the solution to this problem is to rescale the data with a normalizing or standardization function. If the data follow a bell-shaped curve (a normal distribution as described in Chapter 2, Managing and Understanding Data), then it may make sense to use standardization via R's built-in scale() function. On the other hand, if the data follow a uniform distribution or are severely non-normal, then normalization to a 0-1 range may be more appropriate. In this case, we'll use the latter. "
   ]
  },
  {
   "cell_type": "code",
   "execution_count": 2,
   "metadata": {
    "collapsed": true
   },
   "outputs": [],
   "source": [
    "normalize <- function(x) {\n",
    "    return((x - min(x)) / (max(x) - min(x)))\n",
    "} "
   ]
  },
  {
   "cell_type": "code",
   "execution_count": 3,
   "metadata": {
    "collapsed": true
   },
   "outputs": [],
   "source": [
    "concrete_norm <- as.data.frame(lapply(concrete, normalize))"
   ]
  },
  {
   "cell_type": "code",
   "execution_count": 5,
   "metadata": {
    "collapsed": true
   },
   "outputs": [
    {
     "data": {
      "text/plain": [
       "     cement            slag              ash             water       \n",
       " Min.   :0.0000   Min.   :0.00000   Min.   :0.0000   Min.   :0.0000  \n",
       " 1st Qu.:0.2063   1st Qu.:0.00000   1st Qu.:0.0000   1st Qu.:0.3442  \n",
       " Median :0.3902   Median :0.06121   Median :0.0000   Median :0.5048  \n",
       " Mean   :0.4091   Mean   :0.20561   Mean   :0.2708   Mean   :0.4774  \n",
       " 3rd Qu.:0.5662   3rd Qu.:0.39775   3rd Qu.:0.5912   3rd Qu.:0.5607  \n",
       " Max.   :1.0000   Max.   :1.00000   Max.   :1.0000   Max.   :1.0000  \n",
       "  superplastic      coarseagg         fineagg            age         \n",
       " Min.   :0.0000   Min.   :0.0000   Min.   :0.0000   Min.   :0.00000  \n",
       " 1st Qu.:0.0000   1st Qu.:0.3808   1st Qu.:0.3436   1st Qu.:0.01648  \n",
       " Median :0.1988   Median :0.4855   Median :0.4654   Median :0.07418  \n",
       " Mean   :0.1927   Mean   :0.4998   Mean   :0.4505   Mean   :0.12270  \n",
       " 3rd Qu.:0.3168   3rd Qu.:0.6640   3rd Qu.:0.5770   3rd Qu.:0.15110  \n",
       " Max.   :1.0000   Max.   :1.0000   Max.   :1.0000   Max.   :1.00000  \n",
       "    strength     \n",
       " Min.   :0.0000  \n",
       " 1st Qu.:0.2664  \n",
       " Median :0.4001  \n",
       " Mean   :0.4172  \n",
       " 3rd Qu.:0.5457  \n",
       " Max.   :1.0000  "
      ]
     },
     "execution_count": 5,
     "metadata": {},
     "output_type": "execute_result"
    }
   ],
   "source": [
    "summary(concrete_norm)"
   ]
  },
  {
   "cell_type": "code",
   "execution_count": 4,
   "metadata": {
    "collapsed": true
   },
   "outputs": [],
   "source": [
    "concrete_train <- concrete_norm[1:773, ]\n",
    "concrete_test <- concrete_norm[774:1030, ]"
   ]
  },
  {
   "cell_type": "markdown",
   "metadata": {},
   "source": [
    "### Step Three: Training the Model on Data"
   ]
  },
  {
   "cell_type": "code",
   "execution_count": 7,
   "metadata": {
    "collapsed": true
   },
   "outputs": [
    {
     "name": "stdout",
     "output_type": "stream",
     "text": [
      "package 'neuralnet' successfully unpacked and MD5 sums checked\n",
      "\n",
      "The downloaded binary packages are in\n",
      "\tC:\\Users\\Bradley Bailey\\AppData\\Local\\Temp\\RtmpALox3C\\downloaded_packages\n"
     ]
    }
   ],
   "source": [
    "install.packages(\"neuralnet\", repo = \"https://cran.r-project.org\")"
   ]
  },
  {
   "cell_type": "code",
   "execution_count": 5,
   "metadata": {
    "collapsed": true
   },
   "outputs": [
    {
     "name": "stderr",
     "output_type": "stream",
     "text": [
      "Warning message:\n",
      ": package 'neuralnet' was built under R version 3.2.5Loading required package: grid\n",
      "Loading required package: MASS\n"
     ]
    }
   ],
   "source": [
    "library(neuralnet)"
   ]
  },
  {
   "cell_type": "code",
   "execution_count": 8,
   "metadata": {
    "collapsed": false
   },
   "outputs": [],
   "source": [
    " concrete_model <- neuralnet(strength ~ cement + slag + ash + \n",
    "                             water + superplastic + coarseagg + \n",
    "                             fineagg + age, data = concrete_train)"
   ]
  },
  {
   "cell_type": "markdown",
   "metadata": {
    "collapsed": true
   },
   "source": [
    "### Step Four: Evaluating Model Performance"
   ]
  },
  {
   "cell_type": "code",
   "execution_count": 9,
   "metadata": {
    "collapsed": true
   },
   "outputs": [],
   "source": [
    " model_results <- compute(concrete_model, concrete_test[1:8])"
   ]
  },
  {
   "cell_type": "code",
   "execution_count": 10,
   "metadata": {
    "collapsed": true
   },
   "outputs": [],
   "source": [
    "predicted_strength <- model_results$net.result "
   ]
  },
  {
   "cell_type": "code",
   "execution_count": 11,
   "metadata": {
    "collapsed": false
   },
   "outputs": [
    {
     "data": {
      "text/html": [
       "<table>\n",
       "<tbody>\n",
       "\t<tr><td>0.7211270762</td></tr>\n",
       "</tbody>\n",
       "</table>\n"
      ],
      "text/latex": [
       "\\begin{tabular}{l}\n",
       "\t 0.7211270762\\\\\n",
       "\\end{tabular}\n"
      ],
      "text/markdown": [
       "0.721127076243458"
      ],
      "text/plain": [
       "             [,1]\n",
       "[1,] 0.7211270762"
      ]
     },
     "execution_count": 11,
     "metadata": {},
     "output_type": "execute_result"
    }
   ],
   "source": [
    "cor(predicted_strength, concrete_test$strength)"
   ]
  },
  {
   "cell_type": "markdown",
   "metadata": {
    "collapsed": true
   },
   "source": [
    "### Step 5: Improving Model Performance"
   ]
  },
  {
   "cell_type": "code",
   "execution_count": 6,
   "metadata": {
    "collapsed": true
   },
   "outputs": [],
   "source": [
    " concrete_model2 <- neuralnet(strength ~ cement + slag + ash + \n",
    "                             water + superplastic + coarseagg + \n",
    "                             fineagg + age, data = concrete_train,\n",
    "                             hidden = 5)"
   ]
  },
  {
   "cell_type": "code",
   "execution_count": 9,
   "metadata": {
    "collapsed": true
   },
   "outputs": [],
   "source": [
    "model_results2 <- compute(concrete_model2, concrete_test[1:8])"
   ]
  },
  {
   "cell_type": "code",
   "execution_count": 12,
   "metadata": {
    "collapsed": false
   },
   "outputs": [],
   "source": [
    "predicted_strength2 <- model_results2$net.result "
   ]
  },
  {
   "cell_type": "code",
   "execution_count": 13,
   "metadata": {
    "collapsed": false
   },
   "outputs": [
    {
     "data": {
      "text/html": [
       "<table>\n",
       "<tbody>\n",
       "\t<tr><td>0.6985793824</td></tr>\n",
       "</tbody>\n",
       "</table>\n"
      ],
      "text/latex": [
       "\\begin{tabular}{l}\n",
       "\t 0.6985793824\\\\\n",
       "\\end{tabular}\n"
      ],
      "text/markdown": [
       "0.698579382354667"
      ],
      "text/plain": [
       "             [,1]\n",
       "[1,] 0.6985793824"
      ]
     },
     "execution_count": 13,
     "metadata": {},
     "output_type": "execute_result"
    }
   ],
   "source": [
    "cor(predicted_strength2, concrete_test$strength)"
   ]
  }
 ],
 "metadata": {
  "kernelspec": {
   "display_name": "R",
   "language": "R",
   "name": "ir"
  },
  "language_info": {
   "codemirror_mode": "r",
   "file_extension": ".r",
   "mimetype": "text/x-r-source",
   "name": "R",
   "pygments_lexer": "r",
   "version": "3.2.4"
  }
 },
 "nbformat": 4,
 "nbformat_minor": 0
}
