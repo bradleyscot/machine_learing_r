{
 "cells": [
  {
   "cell_type": "markdown",
   "metadata": {},
   "source": [
    "# Support Vector Machines\n",
    "\n",
    "SVM's combine aspects of instance-based nearest neighbor learning and linear regression modeling. The combination is extremely powerful."
   ]
  },
  {
   "cell_type": "code",
   "execution_count": 1,
   "metadata": {
    "collapsed": true
   },
   "outputs": [
    {
     "name": "stdout",
     "output_type": "stream",
     "text": [
      "package 'kernlab' successfully unpacked and MD5 sums checked\n",
      "\n",
      "The downloaded binary packages are in\n",
      "\tC:\\Users\\Bradley Bailey\\AppData\\Local\\Temp\\Rtmp6zJWEb\\downloaded_packages\n"
     ]
    }
   ],
   "source": [
    "install.packages(\"kernlab\", repo = \"https://cran.r-project.org\")"
   ]
  },
  {
   "cell_type": "code",
   "execution_count": 1,
   "metadata": {
    "collapsed": true
   },
   "outputs": [],
   "source": [
    "library(kernlab)"
   ]
  },
  {
   "cell_type": "code",
   "execution_count": 2,
   "metadata": {
    "collapsed": true
   },
   "outputs": [],
   "source": [
    "letters <- read.csv(\"../csv/letterdata.csv\")"
   ]
  },
  {
   "cell_type": "code",
   "execution_count": 4,
   "metadata": {
    "collapsed": true
   },
   "outputs": [
    {
     "name": "stdout",
     "output_type": "stream",
     "text": [
      "'data.frame':\t20000 obs. of  17 variables:\n",
      " $ letter: Factor w/ 26 levels \"A\",\"B\",\"C\",\"D\",..: 20 9 4 14 7 19 2 1 10 13 ...\n",
      " $ xbox  : int  2 5 4 7 2 4 4 1 2 11 ...\n",
      " $ ybox  : int  8 12 11 11 1 11 2 1 2 15 ...\n",
      " $ width : int  3 3 6 6 3 5 5 3 4 13 ...\n",
      " $ height: int  5 7 8 6 1 8 4 2 4 9 ...\n",
      " $ onpix : int  1 2 6 3 1 3 4 1 2 7 ...\n",
      " $ xbar  : int  8 10 10 5 8 8 8 8 10 13 ...\n",
      " $ ybar  : int  13 5 6 9 6 8 7 2 6 2 ...\n",
      " $ x2bar : int  0 5 2 4 6 6 6 2 2 6 ...\n",
      " $ y2bar : int  6 4 6 6 6 9 6 2 6 2 ...\n",
      " $ xybar : int  6 13 10 4 6 5 7 8 12 12 ...\n",
      " $ x2ybar: int  10 3 3 4 5 6 6 2 4 1 ...\n",
      " $ xy2bar: int  8 9 7 10 9 6 6 8 8 9 ...\n",
      " $ xedge : int  0 2 3 6 1 0 2 1 1 8 ...\n",
      " $ xedgey: int  8 8 7 10 7 8 8 6 6 1 ...\n",
      " $ yedge : int  0 4 3 2 5 9 7 2 1 1 ...\n",
      " $ yedgex: int  8 10 9 8 10 7 10 7 7 8 ...\n"
     ]
    }
   ],
   "source": [
    "str(letters)"
   ]
  },
  {
   "cell_type": "code",
   "execution_count": 3,
   "metadata": {
    "collapsed": true
   },
   "outputs": [],
   "source": [
    "letters_train <- letters[1:16000, ] \n",
    "letters_test  <- letters[16001:20000, ] "
   ]
  },
  {
   "cell_type": "code",
   "execution_count": 4,
   "metadata": {
    "collapsed": true
   },
   "outputs": [],
   "source": [
    "letter_classifier <- ksvm(letter ~ ., data = letters_train, kernal = \"vanilladot\")"
   ]
  },
  {
   "cell_type": "code",
   "execution_count": 5,
   "metadata": {
    "collapsed": true
   },
   "outputs": [
    {
     "data": {
      "text/plain": [
       "Support Vector Machine object of class \"ksvm\" \n",
       "\n",
       "SV type: C-svc  (classification) \n",
       " parameter : cost C = 1 \n",
       "\n",
       "Gaussian Radial Basis kernel function. \n",
       " Hyperparameter : sigma =  0.0475342911397909 \n",
       "\n",
       "Number of Support Vectors : 8679 \n",
       "\n",
       "Objective Function Value : -43.0765 -33.8596 -59.0383 -27.1963 -34.6476 -46.8376 -66.8702 -39.1605 -68.6538 -52.3405 -45.2307 -60.5597 -63.7905 -49.2837 -33.8921 -46.9028 -58.3023 -43.6542 -40.3803 -63.828 -48.1982 -38.0868 -41.6773 -54.3081 -41.319 -36.2795 -164.6107 -111.5648 -96.7021 -117.0807 -180.6538 -81.1566 -77.3366 -98.9868 -63.6738 -62.3794 -57.5819 -70.1469 -79.3199 -102.0309 -240.833 -191.9905 -50.3275 -40.9676 -77.536 -43.6778 -101.6284 -39.9946 -61.395 -34.8112 -143.8203 -43.9348 -216.8059 -82.0681 -34.6961 -26.7166 -117.1365 -83.8819 -38.8472 -39.4002 -88.1574 -45.3078 -57.726 -48.4255 -51.4976 -61.1298 -87.5554 -37.519 -27.3027 -50.044 -28.0225 -28.5275 -42.1385 -74.3558 -81.1956 -209.1686 -74.3102 -89.1852 -82.5555 -39.3202 -52.2417 -115.9253 -141.5119 -72.2404 -67.5604 -146.5918 -92.1532 -57.462 -63.7116 -41.2846 -28.5492 -98.5535 -36.4611 -60.0345 -82.1709 -174.4569 -102.916 -71.8442 -54.174 -141.9318 -118.4335 -39.0518 -25.686 -45.1624 -60.5989 -97.4301 -83.3479 -178.7654 -100.3779 -38.6835 -43.2707 -24.9604 -147.5106 -31.3707 -139.8544 -70.1693 -100.7717 -98.3507 -87.0281 -51.6651 -38.2005 -32.4534 -50.0361 -37.8388 -216.561 -43.4822 -55.9301 -128.5659 -136.4117 -35.3639 -57.9829 -30.6969 -81.7426 -80.8758 -52.9076 -160.1145 -58.177 -48.9693 -123.6321 -117.5323 -66.062 -52.4294 -152.9959 -89.3685 -176.5103 -131.4257 -108.7612 -66.3437 -67.8688 -75.0615 -58.9203 -91.0215 -34.4886 -42.1505 -63.0984 -85.6361 -208.1487 -72.6932 -89.9885 -164.4424 -212.7632 -101.2243 -122.8829 -230.5468 -88.256 -82.1953 -131.4521 -90.1839 -63.0322 -133.449 -61.4261 -42.479 -171.0558 -47.7639 -58.7305 -19.9505 -28.4509 -37.7783 -59.0513 -61.0594 -50.7284 -132.7123 -47.9184 -24.2912 -23.2989 -14.8959 -126.4314 -30.0768 -76.6988 -47.1075 -48.3091 -27.4917 -41.5595 -53.7717 -51.802 -57.8194 -57.0115 -109.6079 -45.9818 -35.6766 -26.5051 -17.0126 -95.1463 -30.9759 -83.7816 -93.4522 -65.2269 -62.8867 -59.7122 -47.6306 -60.1441 -178.1116 -74.063 -68.8375 -75.2224 -47.4941 -42.6351 -178.4648 -30.0148 -38.2248 -32.1824 -34.8348 -45.6978 -49.266 -86.6513 -76.9669 -94.0298 -49.8935 -36.8536 -31.9405 -23.2328 -85.1636 -29.7324 -46.8978 -98.8188 -67.5793 -39.5773 -40.6863 -75.6829 -27.213 -35.187 -90.7563 -67.3042 -119.9839 -26.2441 -31.5334 -16.0086 -102.3624 -52.0434 -41.1818 -88.9791 -30.4014 -41.4945 -93.2016 -67.9559 -75.3118 -40.3719 -46.3957 -21.5302 -76.0599 -193.794 -95.1929 -54.4556 -47.582 -95.4283 -56.7573 -80.5598 -73.029 -27.9101 -28.5834 -63.7442 -64.1524 -69.8015 -61.9975 -34.9918 -71.248 -47.4354 -47.6499 -71.5539 -27.3691 -85.014 -102.0399 -39.8402 -45.1946 -42.122 -36.9636 -79.5458 -44.6235 -62.043 -88.3109 -57.3788 -47.303 -71.4281 -49.8886 -97.9323 -29.529 -37.3038 -100.0291 -30.625 -35.0986 -18.7358 -150.1858 -47.1529 -220.1962 -60.9399 -70.389 -29.6295 -89.0625 -159.5772 -73.9357 -62.9134 -72.6986 -48.4414 -51.5169 -20.3985 -109.3219 -33.6499 -181.6206 -18.1078 -20.136 -41.1059 -10.9629 -46.5446 -101.1344 -33.6095 \n",
       "Training error : 0.051562 "
      ]
     },
     "execution_count": 5,
     "metadata": {},
     "output_type": "execute_result"
    }
   ],
   "source": [
    "letter_classifier"
   ]
  },
  {
   "cell_type": "code",
   "execution_count": 6,
   "metadata": {
    "collapsed": true
   },
   "outputs": [],
   "source": [
    "letter_predictions <- predict(letter_classifier, letters_test)"
   ]
  },
  {
   "cell_type": "code",
   "execution_count": 7,
   "metadata": {
    "collapsed": false
   },
   "outputs": [
    {
     "data": {
      "text/html": [
       "<ol class=list-inline>\n",
       "\t<li>U</li>\n",
       "\t<li>N</li>\n",
       "\t<li>V</li>\n",
       "\t<li>I</li>\n",
       "\t<li>N</li>\n",
       "\t<li>H</li>\n",
       "</ol>\n"
      ],
      "text/latex": [
       "\\begin{enumerate*}\n",
       "\\item U\n",
       "\\item N\n",
       "\\item V\n",
       "\\item I\n",
       "\\item N\n",
       "\\item H\n",
       "\\end{enumerate*}\n"
      ],
      "text/markdown": [
       "1. U\n",
       "2. N\n",
       "3. V\n",
       "4. I\n",
       "5. N\n",
       "6. H\n",
       "\n",
       "\n"
      ],
      "text/plain": [
       "[1] U N V I N H\n",
       "Levels: A B C D E F G H I J K L M N O P Q R S T U V W X Y Z"
      ]
     },
     "execution_count": 7,
     "metadata": {},
     "output_type": "execute_result"
    }
   ],
   "source": [
    "head(letter_predictions)"
   ]
  },
  {
   "cell_type": "code",
   "execution_count": 8,
   "metadata": {
    "collapsed": true
   },
   "outputs": [
    {
     "data": {
      "text/plain": [
       "                  \n",
       "letter_predictions   A   B   C   D   E   F   G   H   I   J   K   L   M   N   O\n",
       "                 A 151   0   0   0   0   0   0   0   0   0   0   0   0   0   0\n",
       "                 B   0 128   0   3   0   1   0   2   0   0   0   1   2   1   0\n",
       "                 C   0   0 132   0   3   0   1   0   2   0   0   1   0   0   0\n",
       "                 D   1   1   0 161   0   0   2   8   2   3   1   0   0   1   1\n",
       "                 E   0   0   3   0 137   2   0   0   0   1   0   4   0   0   0\n",
       "                 F   0   0   0   0   0 148   0   0   3   0   0   0   0   0   0\n",
       "                 G   0   0   2   0   8   0 154   2   0   0   0   2   2   0   2\n",
       "                 H   0   1   0   1   0   0   2 125   0   1   2   1   1   3   0\n",
       "                 I   0   0   0   0   0   0   0   0 151   3   0   0   0   0   0\n",
       "                 J   0   0   0   0   0   0   0   0   3 136   0   0   0   0   0\n",
       "                 K   0   0   1   0   0   0   0   5   0   0 132   0   0   1   0\n",
       "                 L   0   0   0   0   0   0   1   0   0   0   0 142   0   0   0\n",
       "                 M   0   0   0   0   0   0   1   1   0   0   0   0 138   1   0\n",
       "                 N   0   0   0   0   0   2   0   0   0   0   0   0   0 150   0\n",
       "                 O   0   0   2   0   0   0   0   0   0   1   0   0   0   5 129\n",
       "                 P   0   0   0   0   0   0   0   0   1   0   0   0   0   0   0\n",
       "                 Q   0   0   0   0   0   0   0   1   0   0   0   0   0   0   3\n",
       "                 R   0   3   1   1   0   0   2   5   0   0   9   1   0   3   2\n",
       "                 S   0   2   0   0   0   0   0   0   1   2   0   1   0   0   0\n",
       "                 T   0   0   0   0   0   0   0   0   0   0   0   0   0   0   0\n",
       "                 U   0   0   1   1   0   0   0   1   0   0   0   0   0   0   0\n",
       "                 V   0   0   0   0   0   0   0   0   0   0   0   0   0   1   0\n",
       "                 W   0   0   0   0   0   0   1   0   0   0   0   0   1   0   2\n",
       "                 X   0   1   0   0   1   0   0   0   0   0   2   4   0   0   0\n",
       "                 Y   4   0   0   0   0   0   0   1   0   0   0   0   0   0   0\n",
       "                 Z   0   0   0   0   3   0   0   0   2   1   0   0   0   0   0\n",
       "                  \n",
       "letter_predictions   P   Q   R   S   T   U   V   W   X   Y   Z\n",
       "                 A   0   3   0   0   1   0   0   0   0   0   0\n",
       "                 B   2   1   3   3   0   0   4   1   1   0   0\n",
       "                 C   0   0   0   0   0   0   0   0   0   0   0\n",
       "                 D   3   1   3   0   2   0   0   0   2   3   0\n",
       "                 E   1   0   0   2   1   0   0   0   0   0   2\n",
       "                 F  11   0   0   1   0   0   1   0   0   0   0\n",
       "                 G   1   0   0   0   2   0   0   0   0   0   0\n",
       "                 H   1   1   0   0   2   0   0   0   0   0   0\n",
       "                 I   0   0   0   0   0   0   0   0   1   0   0\n",
       "                 J   0   0   0   0   0   0   0   0   0   0   3\n",
       "                 K   0   0   3   0   0   0   0   0   2   0   0\n",
       "                 L   0   0   0   1   0   0   0   0   0   0   0\n",
       "                 M   0   0   0   0   0   1   0   2   0   0   0\n",
       "                 N   0   0   2   0   0   0   0   1   0   0   0\n",
       "                 O   2   4   0   0   0   1   0   0   0   0   0\n",
       "                 P 141   0   0   0   0   0   0   0   0   0   0\n",
       "                 Q   3 158   0   0   0   0   0   0   0   0   0\n",
       "                 R   1   0 150   0   1   0   0   0   0   0   0\n",
       "                 S   0   0   0 152   0   0   0   0   0   0   2\n",
       "                 T   0   0   0   0 140   0   0   0   0   1   0\n",
       "                 U   0   0   0   0   0 161   0   0   0   1   0\n",
       "                 V   0   0   0   0   0   2 131   0   0   1   0\n",
       "                 W   0   0   0   0   0   3   0 135   0   0   0\n",
       "                 X   0   0   0   1   1   0   0   0 153   1   1\n",
       "                 Y   2   0   0   0   1   0   0   0   0 138   0\n",
       "                 Z   0   0   0   1   0   0   0   0   0   0 150"
      ]
     },
     "execution_count": 8,
     "metadata": {},
     "output_type": "execute_result"
    }
   ],
   "source": [
    "table(letter_predictions, letters_test$letter)"
   ]
  },
  {
   "cell_type": "code",
   "execution_count": 9,
   "metadata": {
    "collapsed": true
   },
   "outputs": [],
   "source": [
    "agreement <- letter_predictions == letters_test$letter"
   ]
  },
  {
   "cell_type": "code",
   "execution_count": 10,
   "metadata": {
    "collapsed": false
   },
   "outputs": [
    {
     "data": {
      "text/plain": [
       "agreement\n",
       "FALSE  TRUE \n",
       "  277  3723 "
      ]
     },
     "execution_count": 10,
     "metadata": {},
     "output_type": "execute_result"
    }
   ],
   "source": [
    "table(agreement)"
   ]
  },
  {
   "cell_type": "code",
   "execution_count": 11,
   "metadata": {
    "collapsed": false
   },
   "outputs": [
    {
     "data": {
      "text/plain": [
       "agreement\n",
       "  FALSE    TRUE \n",
       "0.06925 0.93075 "
      ]
     },
     "execution_count": 11,
     "metadata": {},
     "output_type": "execute_result"
    }
   ],
   "source": [
    "prop.table(table(agreement))"
   ]
  }
 ],
 "metadata": {
  "kernelspec": {
   "display_name": "R",
   "language": "R",
   "name": "ir"
  },
  "language_info": {
   "codemirror_mode": "r",
   "file_extension": ".r",
   "mimetype": "text/x-r-source",
   "name": "R",
   "pygments_lexer": "r",
   "version": "3.2.4"
  }
 },
 "nbformat": 4,
 "nbformat_minor": 0
}
